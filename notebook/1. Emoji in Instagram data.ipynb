{
 "cells": [
  {
   "cell_type": "code",
   "execution_count": 1,
   "metadata": {},
   "outputs": [],
   "source": [
    "import pandas as pd\n",
    "import sqlite3\n",
    "import emoji\n",
    "from collections import Counter\n",
    "from pprint import pprint\n",
    "\n",
    "from matplotlib.pyplot import yscale, xscale, title, plot\n",
    "import matplotlib.pyplot as plt\n",
    "%matplotlib inline\n",
    "import seaborn as sns"
   ]
  },
  {
   "cell_type": "code",
   "execution_count": 2,
   "metadata": {},
   "outputs": [],
   "source": [
    "def read_sql():\n",
    "    df = __read_sql()\n",
    "    df = __select_taipei_area(df)\n",
    "    df = __clean_raw_dataframe(df)\n",
    "    return df\n",
    "\n",
    "# read raw data from sql\n",
    "def __read_sql():\n",
    "    con = sqlite3.connect('../data/InstagramPost.sqlite')\n",
    "    con2 = sqlite3.connect('../data/InstagramPost2.sqlite')\n",
    "    con3 = sqlite3.connect('../data/InstagramPost3.sqlite')\n",
    "    SQL = pd.read_sql_query('select * from InstagramPost', con)\n",
    "    SQL2 = pd.read_sql_query('select * from InstagramPost_table2', con)\n",
    "    SQL3 = pd.read_sql_query('select * from InstagramPost_table3', con)\n",
    "    SQL4 = pd.read_sql_query('select * from InstagramPost_table4', con)\n",
    "    SQL5 = pd.read_sql_query('select * from InstagramPost_table2', con2)\n",
    "    SQL6 = pd.read_sql_query('select * from InstagramPost', con3)\n",
    "\n",
    "    # concat SQL tables\n",
    "    SQL = pd.concat([SQL, SQL2, SQL3, SQL4, SQL5, SQL6]).drop_duplicates()\n",
    "    del SQL2, SQL3, SQL4, SQL5, SQL6\n",
    "    SQL['datetime'] = pd.to_datetime(SQL.date, unit='s')\n",
    "    instagram2016 = SQL[SQL.datetime.dt.year == 2016]\n",
    "    del SQL\n",
    "    return instagram2016\n",
    "\n",
    "# select taipei area\n",
    "def __select_taipei_area(df):\n",
    "    lat_min = 25.032840\n",
    "    lat_max = 25.051496\n",
    "    lng_min = 121.557441\n",
    "    lng_max = 121.580229\n",
    "\n",
    "    df['lat'] = df.lat.astype(float)\n",
    "    df['lng'] = df.lng.astype(float)\n",
    "\n",
    "    lat_bound = df.lat.between(lat_min, lat_max)\n",
    "    lng_bound = df.lng.between(lng_min, lng_max)\n",
    "    df = df[lat_bound & lng_bound]\n",
    "    return df\n",
    "\n",
    "# clean datafrome\n",
    "def __clean_raw_dataframe(df):\n",
    "    df = df[['location_id', 'location_name', 'lat', 'lng', 'caption', 'comments',\n",
    "             'date', 'media_id', 'is_video', 'likes', 'owner_id', 'thumbnail_src',\n",
    "             'display_src', 'datetime']].reset_index().drop(columns='index')\n",
    "    return df"
   ]
  },
  {
   "cell_type": "code",
   "execution_count": 3,
   "metadata": {},
   "outputs": [],
   "source": [
    "def emoji_tokenize(text):\n",
    "    token = ''.join(c for c in text if c in emoji.UNICODE_EMOJI)\n",
    "    return token\n",
    "\n",
    "def create_emoji_column(df):\n",
    "    df['emoji'] = df['caption'].apply(emoji_tokenize)\n",
    "    return df\n",
    "\n",
    "def count_emoji(text):\n",
    "    '''\n",
    "    return the highest used emoji\n",
    "    it only works for text including emoji only\n",
    "    '''\n",
    "    c = Counter(text)\n",
    "    return c.most_common(1)\n",
    "\n",
    "def count_emoji_location(df):\n",
    "    '''\n",
    "    group by location\n",
    "    return df including the most used emoji\n",
    "    '''\n",
    "    df = create_emoji_column(df)\n",
    "    gb = df.groupby('location_name')\n",
    "    loc_df = pd.DataFrame(gb['emoji'].sum())\n",
    "    loc_df['count'] = loc_df['emoji'].apply(count_emoji)\n",
    "    return loc_df"
   ]
  },
  {
   "cell_type": "code",
   "execution_count": null,
   "metadata": {},
   "outputs": [],
   "source": []
  },
  {
   "cell_type": "markdown",
   "metadata": {},
   "source": [
    "# 1. read Taipei 2016 Instagram data"
   ]
  },
  {
   "cell_type": "code",
   "execution_count": 4,
   "metadata": {},
   "outputs": [],
   "source": [
    "ig2016 = read_sql()"
   ]
  },
  {
   "cell_type": "code",
   "execution_count": 5,
   "metadata": {},
   "outputs": [
    {
     "data": {
      "text/html": [
       "<div>\n",
       "<style scoped>\n",
       "    .dataframe tbody tr th:only-of-type {\n",
       "        vertical-align: middle;\n",
       "    }\n",
       "\n",
       "    .dataframe tbody tr th {\n",
       "        vertical-align: top;\n",
       "    }\n",
       "\n",
       "    .dataframe thead th {\n",
       "        text-align: right;\n",
       "    }\n",
       "</style>\n",
       "<table border=\"1\" class=\"dataframe\">\n",
       "  <thead>\n",
       "    <tr style=\"text-align: right;\">\n",
       "      <th></th>\n",
       "      <th>location_id</th>\n",
       "      <th>location_name</th>\n",
       "      <th>lat</th>\n",
       "      <th>lng</th>\n",
       "      <th>caption</th>\n",
       "      <th>comments</th>\n",
       "      <th>date</th>\n",
       "      <th>media_id</th>\n",
       "      <th>is_video</th>\n",
       "      <th>likes</th>\n",
       "      <th>owner_id</th>\n",
       "      <th>thumbnail_src</th>\n",
       "      <th>display_src</th>\n",
       "      <th>datetime</th>\n",
       "    </tr>\n",
       "  </thead>\n",
       "  <tbody>\n",
       "    <tr>\n",
       "      <th>0</th>\n",
       "      <td>1030274404</td>\n",
       "      <td>珍妮姐姐</td>\n",
       "      <td>25.033070</td>\n",
       "      <td>121.574303</td>\n",
       "      <td>4y9m31d\\n🎃🎃🎃萬聖節不搗蛋要幹嘛.....來當小小波麗士啦！🚔🚔🚔一個好老成的交警...</td>\n",
       "      <td>0</td>\n",
       "      <td>1477722698</td>\n",
       "      <td>1371559858339338657</td>\n",
       "      <td>0</td>\n",
       "      <td>10</td>\n",
       "      <td>471686179</td>\n",
       "      <td>https://instagram.ftpe7-4.fna.fbcdn.net/t51.28...</td>\n",
       "      <td>https://instagram.ftpe7-4.fna.fbcdn.net/t51.28...</td>\n",
       "      <td>2016-10-29 06:31:38</td>\n",
       "    </tr>\n",
       "    <tr>\n",
       "      <th>1</th>\n",
       "      <td>1030059774</td>\n",
       "      <td>上順五金</td>\n",
       "      <td>25.045666</td>\n",
       "      <td>121.572621</td>\n",
       "      <td>殺氣⋯</td>\n",
       "      <td>0</td>\n",
       "      <td>1457411803</td>\n",
       "      <td>1201179727676509838</td>\n",
       "      <td>0</td>\n",
       "      <td>5</td>\n",
       "      <td>1656340962</td>\n",
       "      <td>https://instagram.ftpe7-4.fna.fbcdn.net/t51.28...</td>\n",
       "      <td>https://instagram.ftpe7-4.fna.fbcdn.net/t51.28...</td>\n",
       "      <td>2016-03-08 04:36:43</td>\n",
       "    </tr>\n",
       "  </tbody>\n",
       "</table>\n",
       "</div>"
      ],
      "text/plain": [
       "  location_id location_name        lat         lng  \\\n",
       "0  1030274404          珍妮姐姐  25.033070  121.574303   \n",
       "1  1030059774          上順五金  25.045666  121.572621   \n",
       "\n",
       "                                             caption  comments        date  \\\n",
       "0  4y9m31d\\n🎃🎃🎃萬聖節不搗蛋要幹嘛.....來當小小波麗士啦！🚔🚔🚔一個好老成的交警...         0  1477722698   \n",
       "1                                                殺氣⋯         0  1457411803   \n",
       "\n",
       "              media_id  is_video  likes    owner_id  \\\n",
       "0  1371559858339338657         0     10   471686179   \n",
       "1  1201179727676509838         0      5  1656340962   \n",
       "\n",
       "                                       thumbnail_src  \\\n",
       "0  https://instagram.ftpe7-4.fna.fbcdn.net/t51.28...   \n",
       "1  https://instagram.ftpe7-4.fna.fbcdn.net/t51.28...   \n",
       "\n",
       "                                         display_src            datetime  \n",
       "0  https://instagram.ftpe7-4.fna.fbcdn.net/t51.28... 2016-10-29 06:31:38  \n",
       "1  https://instagram.ftpe7-4.fna.fbcdn.net/t51.28... 2016-03-08 04:36:43  "
      ]
     },
     "execution_count": 5,
     "metadata": {},
     "output_type": "execute_result"
    }
   ],
   "source": [
    "ig2016.head(2)"
   ]
  },
  {
   "cell_type": "markdown",
   "metadata": {},
   "source": [
    "# 2. Find emoji"
   ]
  },
  {
   "cell_type": "code",
   "execution_count": 6,
   "metadata": {
    "scrolled": true
   },
   "outputs": [
    {
     "data": {
      "text/html": [
       "<div>\n",
       "<style scoped>\n",
       "    .dataframe tbody tr th:only-of-type {\n",
       "        vertical-align: middle;\n",
       "    }\n",
       "\n",
       "    .dataframe tbody tr th {\n",
       "        vertical-align: top;\n",
       "    }\n",
       "\n",
       "    .dataframe thead th {\n",
       "        text-align: right;\n",
       "    }\n",
       "</style>\n",
       "<table border=\"1\" class=\"dataframe\">\n",
       "  <thead>\n",
       "    <tr style=\"text-align: right;\">\n",
       "      <th></th>\n",
       "      <th>emoji</th>\n",
       "      <th>count</th>\n",
       "    </tr>\n",
       "    <tr>\n",
       "      <th>location_name</th>\n",
       "      <th></th>\n",
       "      <th></th>\n",
       "    </tr>\n",
       "  </thead>\n",
       "  <tbody>\n",
       "    <tr>\n",
       "      <th>1001 Nights Taipei (一千零一夜水煙館)</th>\n",
       "      <td>🤡🤡🤡🙄🍟👌😜😅😍😅🤔🤔🕴🍷💓🍵🎉❤🎄🎄🎄🚩🍷🍷🍷💕🚩🌬🌬🌬🙈🙈🙈🚩🍷🍸🍹⭐⭐⭐⭐⭐⭐✨✨👩...</td>\n",
       "      <td>[(😂, 78)]</td>\n",
       "    </tr>\n",
       "    <tr>\n",
       "      <th>101 Night Club</th>\n",
       "      <td>🍻🍾❤</td>\n",
       "      <td>[(🍻, 1)]</td>\n",
       "    </tr>\n",
       "    <tr>\n",
       "      <th>101和料理</th>\n",
       "      <td>🐟💕👃🐵💕🐶🙄🙄🍱😍❤❤🍽🍽👸👨🐟😂😂😂😁😁😁🍲👨💲💕❤💯💯💯👏👏👏🍻👍✌🍚🍚🍴🙏🙏</td>\n",
       "      <td>[(💕, 3)]</td>\n",
       "    </tr>\n",
       "    <tr>\n",
       "      <th>147槍樂園‧京華城店</th>\n",
       "      <td>😅😆😆🤘🔫😎😎✌💥💥💥🙈🙉🙊🐷🕶🔫💥💥🤘🤘🤘😏😂🔫🔥🔥🔥😂🏆⚔😎⚔🔫😆😏🔫🤔😂😂😂🗣🎊🛠💣🏳...</td>\n",
       "      <td>[(🔫, 54)]</td>\n",
       "    </tr>\n",
       "    <tr>\n",
       "      <th>1868咖啡烘焙館台北忠孝店</th>\n",
       "      <td></td>\n",
       "      <td>[]</td>\n",
       "    </tr>\n",
       "    <tr>\n",
       "      <th>22:02</th>\n",
       "      <td>😋⚡😩😏😑😔😰😅😏😏😏❤🎁🎉🎄💙☑🍲🍲🍲✌🤔🤔🐂😼💥💕💞🐷😂😋😋❤😌🙀🙀🙀🍲❤❤❤😂😂👭👭💸...</td>\n",
       "      <td>[(🍲, 25)]</td>\n",
       "    </tr>\n",
       "    <tr>\n",
       "      <th>30 Thirty 老酒館</th>\n",
       "      <td>😗💕✔🍓🍮❤🎂📍❤❤❤❤❤📍🧀💕📍👍👍😍😍😍😋👍👍👍😂🙀🗣🗣🗣🙀🙀🙀🍕🍕💨🍷☕🕯🍸🌹🎅🎉🎄🎄...</td>\n",
       "      <td>[(❤, 176)]</td>\n",
       "    </tr>\n",
       "    <tr>\n",
       "      <th>46公車</th>\n",
       "      <td>🎁😆😆😆😆😆</td>\n",
       "      <td>[(😆, 5)]</td>\n",
       "    </tr>\n",
       "    <tr>\n",
       "      <th>4spices Indian restaurant</th>\n",
       "      <td>😍😍😍❤💕💕</td>\n",
       "      <td>[(😍, 3)]</td>\n",
       "    </tr>\n",
       "    <tr>\n",
       "      <th>5by5花草茶飲</th>\n",
       "      <td>😏😏😋😋✌☎</td>\n",
       "      <td>[(😏, 2)]</td>\n",
       "    </tr>\n",
       "  </tbody>\n",
       "</table>\n",
       "</div>"
      ],
      "text/plain": [
       "                                                                           emoji  \\\n",
       "location_name                                                                      \n",
       "1001 Nights Taipei (一千零一夜水煙館)  🤡🤡🤡🙄🍟👌😜😅😍😅🤔🤔🕴🍷💓🍵🎉❤🎄🎄🎄🚩🍷🍷🍷💕🚩🌬🌬🌬🙈🙈🙈🚩🍷🍸🍹⭐⭐⭐⭐⭐⭐✨✨👩...   \n",
       "101 Night Club                                                               🍻🍾❤   \n",
       "101和料理                                🐟💕👃🐵💕🐶🙄🙄🍱😍❤❤🍽🍽👸👨🐟😂😂😂😁😁😁🍲👨💲💕❤💯💯💯👏👏👏🍻👍✌🍚🍚🍴🙏🙏   \n",
       "147槍樂園‧京華城店                    😅😆😆🤘🔫😎😎✌💥💥💥🙈🙉🙊🐷🕶🔫💥💥🤘🤘🤘😏😂🔫🔥🔥🔥😂🏆⚔😎⚔🔫😆😏🔫🤔😂😂😂🗣🎊🛠💣🏳...   \n",
       "1868咖啡烘焙館台北忠孝店                                                                     \n",
       "22:02                          😋⚡😩😏😑😔😰😅😏😏😏❤🎁🎉🎄💙☑🍲🍲🍲✌🤔🤔🐂😼💥💕💞🐷😂😋😋❤😌🙀🙀🙀🍲❤❤❤😂😂👭👭💸...   \n",
       "30 Thirty 老酒館                  😗💕✔🍓🍮❤🎂📍❤❤❤❤❤📍🧀💕📍👍👍😍😍😍😋👍👍👍😂🙀🗣🗣🗣🙀🙀🙀🍕🍕💨🍷☕🕯🍸🌹🎅🎉🎄🎄...   \n",
       "46公車                                                                      🎁😆😆😆😆😆   \n",
       "4spices Indian restaurant                                                 😍😍😍❤💕💕   \n",
       "5by5花草茶飲                                                                  😏😏😋😋✌☎   \n",
       "\n",
       "                                    count  \n",
       "location_name                              \n",
       "1001 Nights Taipei (一千零一夜水煙館)   [(😂, 78)]  \n",
       "101 Night Club                   [(🍻, 1)]  \n",
       "101和料理                           [(💕, 3)]  \n",
       "147槍樂園‧京華城店                     [(🔫, 54)]  \n",
       "1868咖啡烘焙館台北忠孝店                         []  \n",
       "22:02                           [(🍲, 25)]  \n",
       "30 Thirty 老酒館                  [(❤, 176)]  \n",
       "46公車                             [(😆, 5)]  \n",
       "4spices Indian restaurant        [(😍, 3)]  \n",
       "5by5花草茶飲                         [(😏, 2)]  "
      ]
     },
     "execution_count": 6,
     "metadata": {},
     "output_type": "execute_result"
    }
   ],
   "source": [
    "ig_emoji = count_emoji_location(ig2016)\n",
    "ig_emoji.head(10)"
   ]
  },
  {
   "cell_type": "code",
   "execution_count": 7,
   "metadata": {},
   "outputs": [],
   "source": [
    "def count_all_emoji(df):\n",
    "    '''\n",
    "    return the most common emoji in Taipei\n",
    "    '''\n",
    "    df = create_emoji_column(df)\n",
    "    emoji_text = df.emoji.str.cat()\n",
    "    counter = Counter(emoji_text)\n",
    "    return counter"
   ]
  },
  {
   "cell_type": "code",
   "execution_count": 8,
   "metadata": {},
   "outputs": [],
   "source": [
    "emoji_counter = count_all_emoji(ig2016)"
   ]
  },
  {
   "cell_type": "code",
   "execution_count": 9,
   "metadata": {
    "scrolled": true
   },
   "outputs": [
    {
     "name": "stdout",
     "output_type": "stream",
     "text": [
      "[('😂', 26985),\n",
      " ('❤', 26787),\n",
      " ('😍', 13945),\n",
      " ('💕', 13782),\n",
      " ('🎄', 12183),\n",
      " ('😋', 11412),\n",
      " ('😭', 9492),\n",
      " ('👍', 9050),\n",
      " ('✨', 8582),\n",
      " ('😘', 7047),\n",
      " ('🎉', 6705),\n",
      " ('🐷', 5735),\n",
      " ('😆', 5147),\n",
      " ('☺', 4566),\n",
      " ('😁', 4518),\n",
      " ('✌', 4325),\n",
      " ('😊', 4130),\n",
      " ('😅', 4109),\n",
      " ('🙄', 4103),\n",
      " ('❄', 4076),\n",
      " ('🍴', 3889),\n",
      " ('👭', 3681),\n",
      " ('💪', 3503),\n",
      " ('😎', 3356),\n",
      " ('🤗', 3344),\n",
      " ('🤔', 3307),\n",
      " ('😏', 3213),\n",
      " ('🎅', 3170),\n",
      " ('😳', 2888),\n",
      " ('💓', 2761)]\n"
     ]
    }
   ],
   "source": [
    "pprint(emoji_counter.most_common(30))"
   ]
  },
  {
   "cell_type": "code",
   "execution_count": 10,
   "metadata": {},
   "outputs": [
    {
     "data": {
      "text/plain": [
       "[<matplotlib.lines.Line2D at 0x1e867d17eb8>]"
      ]
     },
     "execution_count": 10,
     "metadata": {},
     "output_type": "execute_result"
    },
    {
     "data": {
      "image/png": "[encoded data removed]",
      "text/plain": [
       "<Figure size 1080x504 with 1 Axes>"
      ]
     },
     "metadata": {
      "needs_background": "light"
     },
     "output_type": "display_data"
    }
   ],
   "source": [
    "plt.rcParams['figure.figsize']=(15,7)\n",
    "yscale('log'); xscale('log'); title('Frequency of n-th most frequent emoji')\n",
    "plot([c for (w, c) in emoji_counter.most_common()])"
   ]
  },
  {
   "cell_type": "code",
   "execution_count": 11,
   "metadata": {
    "scrolled": true
   },
   "outputs": [],
   "source": [
    "eee = pd.DataFrame(emoji_counter.most_common(20))\n",
    "eee.columns = ['Emoji', 'Amount']"
   ]
  },
  {
   "cell_type": "code",
   "execution_count": 12,
   "metadata": {
    "scrolled": false
   },
   "outputs": [
    {
     "data": {
      "text/plain": [
       "<matplotlib.axes._subplots.AxesSubplot at 0x1e867c55278>"
      ]
     },
     "execution_count": 12,
     "metadata": {},
     "output_type": "execute_result"
    },
    {
     "data": {
      "image/png": "[encoded data removed]",
      "text/plain": [
       "<Figure size 1080x504 with 1 Axes>"
      ]
     },
     "metadata": {
      "needs_background": "light"
     },
     "output_type": "display_data"
    }
   ],
   "source": [
    "plt.rcParams['figure.figsize']=(15,7)\n",
    "title('2016 Taipei Instagram Emoji Ranking')\n",
    "sns.barplot(x='Emoji', y='Amount', data=eee, palette='Reds_d')"
   ]
  },
  {
   "cell_type": "code",
   "execution_count": null,
   "metadata": {},
   "outputs": [],
   "source": []
  }
 ],
 "metadata": {
  "kernelspec": {
   "display_name": "Python 3",
   "language": "python",
   "name": "python3"
  },
  "language_info": {
   "codemirror_mode": {
    "name": "ipython",
    "version": 3
   },
   "file_extension": ".py",
   "mimetype": "text/x-python",
   "name": "python",
   "nbconvert_exporter": "python",
   "pygments_lexer": "ipython3",
   "version": "3.7.0"
  }
 },
 "nbformat": 4,
 "nbformat_minor": 2
}

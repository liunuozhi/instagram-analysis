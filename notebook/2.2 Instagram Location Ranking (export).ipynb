{
 "cells": [
  {
   "cell_type": "markdown",
   "metadata": {},
   "source": [
    "This is for exporting ranking location posting.\n",
    "Also, change the geocoordinate from 4326 to 3857."
   ]
  },
  {
   "cell_type": "code",
   "execution_count": 4,
   "metadata": {},
   "outputs": [],
   "source": [
    "import pandas as pd\n",
    "import sqlite3\n",
    "\n",
    "from pyproj import Proj, transform"
   ]
  },
  {
   "cell_type": "code",
   "execution_count": 2,
   "metadata": {},
   "outputs": [],
   "source": [
    "def read_sql():\n",
    "    df = __read_sql()\n",
    "    df = __select_taipei_area(df)\n",
    "    df = __clean_raw_dataframe(df)\n",
    "    return df\n",
    "\n",
    "# read raw data from sql\n",
    "def __read_sql():\n",
    "    con = sqlite3.connect('../data/InstagramPost.sqlite')\n",
    "    con2 = sqlite3.connect('../data/InstagramPost2.sqlite')\n",
    "    con3 = sqlite3.connect('../data/InstagramPost3.sqlite')\n",
    "    SQL = pd.read_sql_query('select * from InstagramPost', con)\n",
    "    SQL2 = pd.read_sql_query('select * from InstagramPost_table2', con)\n",
    "    SQL3 = pd.read_sql_query('select * from InstagramPost_table3', con)\n",
    "    SQL4 = pd.read_sql_query('select * from InstagramPost_table4', con)\n",
    "    SQL5 = pd.read_sql_query('select * from InstagramPost_table2', con2)\n",
    "    SQL6 = pd.read_sql_query('select * from InstagramPost', con3)\n",
    "\n",
    "    # concat SQL tables\n",
    "    SQL = pd.concat([SQL, SQL2, SQL3, SQL4, SQL5, SQL6]).drop_duplicates()\n",
    "    del SQL2, SQL3, SQL4, SQL5, SQL6\n",
    "    SQL['datetime'] = pd.to_datetime(SQL.date, unit='s')\n",
    "    instagram2016 = SQL[SQL.datetime.dt.year == 2016]\n",
    "    del SQL\n",
    "    return instagram2016\n",
    "\n",
    "# select taipei area\n",
    "def __select_taipei_area(df):\n",
    "#     # 基隆路附近\n",
    "#     lat_min = 25.032840\n",
    "#     lat_max = 25.051496\n",
    "#     lng_min = 121.557441\n",
    "#     lng_max = 121.580229\n",
    "    \n",
    "    # 台北市\n",
    "    lat_min, lng_min = 24.975456, 121.461888\n",
    "    lat_max, lng_max = 25.100281, 121.611286\n",
    "\n",
    "    df['lat'] = df.lat.astype(float)\n",
    "    df['lng'] = df.lng.astype(float)\n",
    "\n",
    "    lat_bound = df.lat.between(lat_min, lat_max)\n",
    "    lng_bound = df.lng.between(lng_min, lng_max)\n",
    "    df = df[lat_bound & lng_bound]\n",
    "    return df\n",
    "\n",
    "# clean datafrome\n",
    "def __clean_raw_dataframe(df):\n",
    "    df = df[['location_id', 'location_name', 'lat', 'lng', 'caption', 'comments',\n",
    "             'date', 'media_id', 'is_video', 'likes', 'owner_id', 'thumbnail_src',\n",
    "             'display_src', 'datetime']].reset_index().drop(columns='index')\n",
    "    return df"
   ]
  },
  {
   "cell_type": "code",
   "execution_count": 80,
   "metadata": {},
   "outputs": [],
   "source": [
    "# proj from 4326 to 3857\n",
    "def proj_transform(lat, lng):\n",
    "    inProj = Proj(init='epsg:4326')\n",
    "    outProj = Proj(init='epsg:3857')\n",
    "    lng, lat = transform(inProj, outProj, lng, lat)\n",
    "    return lat, lng\n",
    "\n",
    "def df_change_proj(df):\n",
    "    df['coor'] = df.apply(lambda df: proj_transform(df['lat'], df['lng']), axis=1)\n",
    "    df['lat'] = df['coor'].apply(lambda x: x[0])\n",
    "    df['lng'] = df['coor'].apply(lambda x: x[1])\n",
    "    df = df.drop(columns=['coor'])\n",
    "    return df"
   ]
  },
  {
   "cell_type": "markdown",
   "metadata": {},
   "source": [
    "# 1. Read Instagram Data"
   ]
  },
  {
   "cell_type": "code",
   "execution_count": 3,
   "metadata": {},
   "outputs": [],
   "source": [
    "ig2016 = read_sql()"
   ]
  },
  {
   "cell_type": "code",
   "execution_count": 81,
   "metadata": {},
   "outputs": [
    {
     "name": "stderr",
     "output_type": "stream",
     "text": [
      "D:\\Users\\ronn\\Anaconda3\\envs\\nlp\\lib\\site-packages\\ipykernel_launcher.py:5: FutureWarning: by argument to sort_index is deprecated, please use .sort_values(by=...)\n",
      "  \"\"\"\n"
     ]
    }
   ],
   "source": [
    "loc_gb = ig2016.groupby('location_name')\n",
    "rank = (pd.DataFrame(loc_gb.size())\n",
    "            .reset_index()\n",
    "            .rename(columns={0:'posts'})\n",
    "            .sort_index(by='posts', ascending=False)\n",
    "       )\n",
    "# rank加上经纬度\n",
    "loc_table = (ig2016.drop_duplicates('location_name')\n",
    "                 .reset_index()\n",
    "                 [['location_id', 'location_name', 'lat', 'lng']]\n",
    "            )\n",
    "rank = pd.merge(rank, loc_table, on='location_name')"
   ]
  },
  {
   "cell_type": "code",
   "execution_count": 82,
   "metadata": {},
   "outputs": [
    {
     "data": {
      "text/html": [
       "<div>\n",
       "<style scoped>\n",
       "    .dataframe tbody tr th:only-of-type {\n",
       "        vertical-align: middle;\n",
       "    }\n",
       "\n",
       "    .dataframe tbody tr th {\n",
       "        vertical-align: top;\n",
       "    }\n",
       "\n",
       "    .dataframe thead th {\n",
       "        text-align: right;\n",
       "    }\n",
       "</style>\n",
       "<table border=\"1\" class=\"dataframe\">\n",
       "  <thead>\n",
       "    <tr style=\"text-align: right;\">\n",
       "      <th></th>\n",
       "      <th>location_name</th>\n",
       "      <th>posts</th>\n",
       "      <th>location_id</th>\n",
       "      <th>lat</th>\n",
       "      <th>lng</th>\n",
       "    </tr>\n",
       "  </thead>\n",
       "  <tbody>\n",
       "    <tr>\n",
       "      <th>0</th>\n",
       "      <td>TAIPEI 101 MALL 台北 101 購物中心</td>\n",
       "      <td>31126</td>\n",
       "      <td>213122053</td>\n",
       "      <td>25.033922</td>\n",
       "      <td>121.564453</td>\n",
       "    </tr>\n",
       "    <tr>\n",
       "      <th>1</th>\n",
       "      <td>BELLAVITA</td>\n",
       "      <td>24917</td>\n",
       "      <td>4816</td>\n",
       "      <td>25.039723</td>\n",
       "      <td>121.567416</td>\n",
       "    </tr>\n",
       "    <tr>\n",
       "      <th>2</th>\n",
       "      <td>松山文創園區 SCCP Taipei</td>\n",
       "      <td>22906</td>\n",
       "      <td>5027714</td>\n",
       "      <td>25.044063</td>\n",
       "      <td>121.557824</td>\n",
       "    </tr>\n",
       "    <tr>\n",
       "      <th>3</th>\n",
       "      <td>台北101觀景台</td>\n",
       "      <td>17607</td>\n",
       "      <td>1798709</td>\n",
       "      <td>25.033830</td>\n",
       "      <td>121.564676</td>\n",
       "    </tr>\n",
       "    <tr>\n",
       "      <th>4</th>\n",
       "      <td>ATT 4 FUN</td>\n",
       "      <td>16411</td>\n",
       "      <td>4612082</td>\n",
       "      <td>25.035327</td>\n",
       "      <td>121.565868</td>\n",
       "    </tr>\n",
       "  </tbody>\n",
       "</table>\n",
       "</div>"
      ],
      "text/plain": [
       "                 location_name  posts location_id        lat         lng\n",
       "0  TAIPEI 101 MALL 台北 101 購物中心  31126   213122053  25.033922  121.564453\n",
       "1                    BELLAVITA  24917        4816  25.039723  121.567416\n",
       "2           松山文創園區 SCCP Taipei  22906     5027714  25.044063  121.557824\n",
       "3                     台北101觀景台  17607     1798709  25.033830  121.564676\n",
       "4                    ATT 4 FUN  16411     4612082  25.035327  121.565868"
      ]
     },
     "execution_count": 82,
     "metadata": {},
     "output_type": "execute_result"
    }
   ],
   "source": [
    "rank.head()"
   ]
  },
  {
   "cell_type": "markdown",
   "metadata": {},
   "source": [
    "# 2. Projection change from 4326 to 3857"
   ]
  },
  {
   "cell_type": "code",
   "execution_count": 83,
   "metadata": {},
   "outputs": [],
   "source": [
    "rank = df_change_proj(rank)"
   ]
  },
  {
   "cell_type": "code",
   "execution_count": 84,
   "metadata": {},
   "outputs": [
    {
     "data": {
      "text/html": [
       "<div>\n",
       "<style scoped>\n",
       "    .dataframe tbody tr th:only-of-type {\n",
       "        vertical-align: middle;\n",
       "    }\n",
       "\n",
       "    .dataframe tbody tr th {\n",
       "        vertical-align: top;\n",
       "    }\n",
       "\n",
       "    .dataframe thead th {\n",
       "        text-align: right;\n",
       "    }\n",
       "</style>\n",
       "<table border=\"1\" class=\"dataframe\">\n",
       "  <thead>\n",
       "    <tr style=\"text-align: right;\">\n",
       "      <th></th>\n",
       "      <th>location_name</th>\n",
       "      <th>posts</th>\n",
       "      <th>location_id</th>\n",
       "      <th>lat</th>\n",
       "      <th>lng</th>\n",
       "    </tr>\n",
       "  </thead>\n",
       "  <tbody>\n",
       "    <tr>\n",
       "      <th>0</th>\n",
       "      <td>TAIPEI 101 MALL 台北 101 購物中心</td>\n",
       "      <td>31126</td>\n",
       "      <td>213122053</td>\n",
       "      <td>2.879912e+06</td>\n",
       "      <td>1.353249e+07</td>\n",
       "    </tr>\n",
       "    <tr>\n",
       "      <th>1</th>\n",
       "      <td>BELLAVITA</td>\n",
       "      <td>24917</td>\n",
       "      <td>4816</td>\n",
       "      <td>2.880624e+06</td>\n",
       "      <td>1.353282e+07</td>\n",
       "    </tr>\n",
       "    <tr>\n",
       "      <th>2</th>\n",
       "      <td>松山文創園區 SCCP Taipei</td>\n",
       "      <td>22906</td>\n",
       "      <td>5027714</td>\n",
       "      <td>2.881158e+06</td>\n",
       "      <td>1.353176e+07</td>\n",
       "    </tr>\n",
       "    <tr>\n",
       "      <th>3</th>\n",
       "      <td>台北101觀景台</td>\n",
       "      <td>17607</td>\n",
       "      <td>1798709</td>\n",
       "      <td>2.879901e+06</td>\n",
       "      <td>1.353252e+07</td>\n",
       "    </tr>\n",
       "    <tr>\n",
       "      <th>4</th>\n",
       "      <td>ATT 4 FUN</td>\n",
       "      <td>16411</td>\n",
       "      <td>4612082</td>\n",
       "      <td>2.880084e+06</td>\n",
       "      <td>1.353265e+07</td>\n",
       "    </tr>\n",
       "  </tbody>\n",
       "</table>\n",
       "</div>"
      ],
      "text/plain": [
       "                 location_name  posts location_id           lat           lng\n",
       "0  TAIPEI 101 MALL 台北 101 購物中心  31126   213122053  2.879912e+06  1.353249e+07\n",
       "1                    BELLAVITA  24917        4816  2.880624e+06  1.353282e+07\n",
       "2           松山文創園區 SCCP Taipei  22906     5027714  2.881158e+06  1.353176e+07\n",
       "3                     台北101觀景台  17607     1798709  2.879901e+06  1.353252e+07\n",
       "4                    ATT 4 FUN  16411     4612082  2.880084e+06  1.353265e+07"
      ]
     },
     "execution_count": 84,
     "metadata": {},
     "output_type": "execute_result"
    }
   ],
   "source": [
    "rank.head()"
   ]
  },
  {
   "cell_type": "markdown",
   "metadata": {},
   "source": [
    "rank.to_csv('location_ranking.csv', encoding='utf8')"
   ]
  },
  {
   "cell_type": "markdown",
   "metadata": {},
   "source": [
    "# 2. Map Bounding"
   ]
  },
  {
   "cell_type": "code",
   "execution_count": 86,
   "metadata": {},
   "outputs": [
    {
     "name": "stdout",
     "output_type": "stream",
     "text": [
      "coor_min:   2872730.2479399117 , 13521075.522949627\n",
      "coor_max:   2888066.921061524 , 13537706.43223516\n"
     ]
    }
   ],
   "source": [
    "lat_min, lng_min = 24.975456, 121.461888\n",
    "lat_max, lng_max = 25.100281, 121.611286\n",
    "lat_min, lng_min = proj_transform(lat_min, lng_min)\n",
    "lat_max, lng_max = proj_transform(lat_max, lng_max)\n",
    "print('coor_min:  ', lat_min, ',', lng_min)\n",
    "print('coor_max:  ', lat_max, ',', lng_max)"
   ]
  },
  {
   "cell_type": "code",
   "execution_count": null,
   "metadata": {},
   "outputs": [],
   "source": []
  }
 ],
 "metadata": {
  "kernelspec": {
   "display_name": "Python 3",
   "language": "python",
   "name": "python3"
  },
  "language_info": {
   "codemirror_mode": {
    "name": "ipython",
    "version": 3
   },
   "file_extension": ".py",
   "mimetype": "text/x-python",
   "name": "python",
   "nbconvert_exporter": "python",
   "pygments_lexer": "ipython3",
   "version": "3.7.0"
  }
 },
 "nbformat": 4,
 "nbformat_minor": 2
}

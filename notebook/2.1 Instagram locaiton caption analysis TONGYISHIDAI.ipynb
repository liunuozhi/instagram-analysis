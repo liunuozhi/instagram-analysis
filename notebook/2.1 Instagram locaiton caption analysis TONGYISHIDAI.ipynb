{
 "cells": [
  {
   "cell_type": "code",
   "execution_count": 1,
   "metadata": {},
   "outputs": [],
   "source": [
    "import pandas as pd\n",
    "import jieba\n",
    "import re\n",
    "from collections import Counter\n",
    "from optparse import OptionParser\n",
    "import jieba.analyse"
   ]
  },
  {
   "cell_type": "code",
   "execution_count": 2,
   "metadata": {},
   "outputs": [],
   "source": [
    "# read csv\n",
    "CAPTIONS = (pd.read_csv('tongyishidai.csv', parse_dates=['datetime'])\n",
    "                .drop(columns='Unnamed: 0'))"
   ]
  },
  {
   "cell_type": "code",
   "execution_count": 3,
   "metadata": {},
   "outputs": [
    {
     "name": "stderr",
     "output_type": "stream",
     "text": [
      "Building prefix dict from the default dictionary ...\n",
      "Loading model from cache C:\\Users\\ronn\\AppData\\Local\\Temp\\jieba.cache\n",
      "Loading model cost 1.287 seconds.\n",
      "Prefix dict has been built succesfully.\n"
     ]
    }
   ],
   "source": [
    "# add stop word for jieba\n",
    "with open('add_stopword.txt') as f:\n",
    "    stopword = f.read()\n",
    "\n",
    "jieba.add_word(stopword)"
   ]
  },
  {
   "cell_type": "markdown",
   "metadata": {},
   "source": [
    "# 1. Test one caption"
   ]
  },
  {
   "cell_type": "code",
   "execution_count": 4,
   "metadata": {
    "scrolled": true
   },
   "outputs": [
    {
     "data": {
      "text/html": [
       "<div>\n",
       "<style scoped>\n",
       "    .dataframe tbody tr th:only-of-type {\n",
       "        vertical-align: middle;\n",
       "    }\n",
       "\n",
       "    .dataframe tbody tr th {\n",
       "        vertical-align: top;\n",
       "    }\n",
       "\n",
       "    .dataframe thead th {\n",
       "        text-align: right;\n",
       "    }\n",
       "</style>\n",
       "<table border=\"1\" class=\"dataframe\">\n",
       "  <thead>\n",
       "    <tr style=\"text-align: right;\">\n",
       "      <th></th>\n",
       "      <th>datetime</th>\n",
       "      <th>caption</th>\n",
       "    </tr>\n",
       "  </thead>\n",
       "  <tbody>\n",
       "    <tr>\n",
       "      <th>0</th>\n",
       "      <td>2016-12-31 22:34:34</td>\n",
       "      <td>✨✨✨\\r\\n_\\r\\n_\\r\\n_\\r\\n#Taiwan #Igeroftheday #p...</td>\n",
       "    </tr>\n",
       "    <tr>\n",
       "      <th>1</th>\n",
       "      <td>2016-12-31 19:44:48</td>\n",
       "      <td>路邊的冷～😒😒😒</td>\n",
       "    </tr>\n",
       "    <tr>\n",
       "      <th>2</th>\n",
       "      <td>2016-12-31 19:37:46</td>\n",
       "      <td>有人硬要比說他的天婦羅比我高🙄</td>\n",
       "    </tr>\n",
       "    <tr>\n",
       "      <th>3</th>\n",
       "      <td>2016-12-31 18:15:02</td>\n",
       "      <td>溜小孩</td>\n",
       "    </tr>\n",
       "    <tr>\n",
       "      <th>4</th>\n",
       "      <td>2016-12-31 17:47:02</td>\n",
       "      <td>2016年的最後一天\\r\\n妳們在幹嘛😋</td>\n",
       "    </tr>\n",
       "    <tr>\n",
       "      <th>5</th>\n",
       "      <td>2016-12-31 17:21:58</td>\n",
       "      <td>Lol #withfriends #bff #hangout #newyearevent #...</td>\n",
       "    </tr>\n",
       "    <tr>\n",
       "      <th>6</th>\n",
       "      <td>2016-12-31 17:19:45</td>\n",
       "      <td>2017請多多指教</td>\n",
       "    </tr>\n",
       "    <tr>\n",
       "      <th>7</th>\n",
       "      <td>2016-12-31 16:46:45</td>\n",
       "      <td>好喝～～</td>\n",
       "    </tr>\n",
       "    <tr>\n",
       "      <th>8</th>\n",
       "      <td>2016-12-31 16:42:38</td>\n",
       "      <td>今年的101煙火好好看啊！</td>\n",
       "    </tr>\n",
       "    <tr>\n",
       "      <th>9</th>\n",
       "      <td>2016-12-31 15:55:58</td>\n",
       "      <td>下班接跨年 結束這回合🎉🎉🎉</td>\n",
       "    </tr>\n",
       "    <tr>\n",
       "      <th>10</th>\n",
       "      <td>2016-12-31 15:45:48</td>\n",
       "      <td>要 放煙火囉 2017</td>\n",
       "    </tr>\n",
       "    <tr>\n",
       "      <th>11</th>\n",
       "      <td>2016-12-31 14:41:26</td>\n",
       "      <td>揮別2016的多少不順\\r\\n期待2017的煥然一新\\r\\n#新年快樂\\r\\n#自己要更好</td>\n",
       "    </tr>\n",
       "    <tr>\n",
       "      <th>12</th>\n",
       "      <td>2016-12-31 14:21:39</td>\n",
       "      <td>跨年晚會前先來逛統一時代百貨，經過三樓的時候一個展場吸引了我，是由十萬顆水晶製成的麋鹿，特別...</td>\n",
       "    </tr>\n",
       "    <tr>\n",
       "      <th>13</th>\n",
       "      <td>2016-12-31 14:15:14</td>\n",
       "      <td>捕捉2016的尾巴📷\\r\\nHappy New year🎆🎆🎆\\r\\n_\\r\\n #happ...</td>\n",
       "    </tr>\n",
       "    <tr>\n",
       "      <th>14</th>\n",
       "      <td>2016-12-31 14:13:29</td>\n",
       "      <td>Say goodbye to 2016 and greet 2017. I have a f...</td>\n",
       "    </tr>\n",
       "    <tr>\n",
       "      <th>15</th>\n",
       "      <td>2016-12-31 14:02:53</td>\n",
       "      <td>台北大妖風🌀</td>\n",
       "    </tr>\n",
       "    <tr>\n",
       "      <th>16</th>\n",
       "      <td>2016-12-31 13:55:22</td>\n",
       "      <td>新年快樂🎉\\r\\n希望我們不要分手and明年也請多多指教🖤</td>\n",
       "    </tr>\n",
       "    <tr>\n",
       "      <th>17</th>\n",
       "      <td>2016-12-31 13:43:59</td>\n",
       "      <td>跨年倒數中……#人山人海 #101</td>\n",
       "    </tr>\n",
       "    <tr>\n",
       "      <th>18</th>\n",
       "      <td>2016-12-31 13:39:31</td>\n",
       "      <td>👋🏻\\r\\n2016謝謝有你們的陪伴\\r\\n別忘記2017年\\r\\n我們也要繼續\\r\\n照出...</td>\n",
       "    </tr>\n",
       "    <tr>\n",
       "      <th>19</th>\n",
       "      <td>2016-12-31 13:37:31</td>\n",
       "      <td>先縮新年快樂🎉\\r\\n謝謝我的伴❣️\\r\\n我們要一直互相陪伴下去💕💞 一起邁向新的旅程.\\...</td>\n",
       "    </tr>\n",
       "  </tbody>\n",
       "</table>\n",
       "</div>"
      ],
      "text/plain": [
       "              datetime                                            caption\n",
       "0  2016-12-31 22:34:34  ✨✨✨\\r\\n_\\r\\n_\\r\\n_\\r\\n#Taiwan #Igeroftheday #p...\n",
       "1  2016-12-31 19:44:48                                           路邊的冷～😒😒😒\n",
       "2  2016-12-31 19:37:46                                    有人硬要比說他的天婦羅比我高🙄\n",
       "3  2016-12-31 18:15:02                                                溜小孩\n",
       "4  2016-12-31 17:47:02                               2016年的最後一天\\r\\n妳們在幹嘛😋\n",
       "5  2016-12-31 17:21:58  Lol #withfriends #bff #hangout #newyearevent #...\n",
       "6  2016-12-31 17:19:45                                          2017請多多指教\n",
       "7  2016-12-31 16:46:45                                               好喝～～\n",
       "8  2016-12-31 16:42:38                                      今年的101煙火好好看啊！\n",
       "9  2016-12-31 15:55:58                                     下班接跨年 結束這回合🎉🎉🎉\n",
       "10 2016-12-31 15:45:48                                        要 放煙火囉 2017\n",
       "11 2016-12-31 14:41:26      揮別2016的多少不順\\r\\n期待2017的煥然一新\\r\\n#新年快樂\\r\\n#自己要更好\n",
       "12 2016-12-31 14:21:39  跨年晚會前先來逛統一時代百貨，經過三樓的時候一個展場吸引了我，是由十萬顆水晶製成的麋鹿，特別...\n",
       "13 2016-12-31 14:15:14  捕捉2016的尾巴📷\\r\\nHappy New year🎆🎆🎆\\r\\n_\\r\\n #happ...\n",
       "14 2016-12-31 14:13:29  Say goodbye to 2016 and greet 2017. I have a f...\n",
       "15 2016-12-31 14:02:53                                             台北大妖風🌀\n",
       "16 2016-12-31 13:55:22                      新年快樂🎉\\r\\n希望我們不要分手and明年也請多多指教🖤\n",
       "17 2016-12-31 13:43:59                                  跨年倒數中……#人山人海 #101\n",
       "18 2016-12-31 13:39:31  👋🏻\\r\\n2016謝謝有你們的陪伴\\r\\n別忘記2017年\\r\\n我們也要繼續\\r\\n照出...\n",
       "19 2016-12-31 13:37:31  先縮新年快樂🎉\\r\\n謝謝我的伴❣️\\r\\n我們要一直互相陪伴下去💕💞 一起邁向新的旅程.\\..."
      ]
     },
     "execution_count": 4,
     "metadata": {},
     "output_type": "execute_result"
    }
   ],
   "source": [
    "CAPTIONS.head(20)"
   ]
  },
  {
   "cell_type": "code",
   "execution_count": 5,
   "metadata": {
    "scrolled": true
   },
   "outputs": [
    {
     "data": {
      "text/plain": [
       "Counter({'加上': 1,\n",
       "         '閃': 1,\n",
       "         '兩個': 1,\n",
       "         '晚會前': 1,\n",
       "         '瞎': 1,\n",
       "         '妹子': 1,\n",
       "         '只有': 1,\n",
       "         '十萬顆': 1,\n",
       "         '製': 1,\n",
       "         '已經': 1,\n",
       "         '被': 1,\n",
       "         '吸引': 1,\n",
       "         '我': 1,\n",
       "         '水晶': 1,\n",
       "         '啊': 1,\n",
       "         '再': 1,\n",
       "         '三樓': 1,\n",
       "         '一個': 1,\n",
       "         '麋鹿': 1,\n",
       "         '特別': 1,\n",
       "         '了': 1,\n",
       "         '逛統': 1,\n",
       "         '經過': 1,\n",
       "         '帥哥': 1,\n",
       "         '！': 1,\n",
       "         '時候': 1,\n",
       "         '和': 1,\n",
       "         '很': 1,\n",
       "         '展場': 1,\n",
       "         '～': 1,\n",
       "         '😅': 1,\n",
       "         '成': 1,\n",
       "         '由': 1,\n",
       "         '旁邊': 1,\n",
       "         '快': 1,\n",
       "         '你們': 1,\n",
       "         '是': 1,\n",
       "         '先來': 1,\n",
       "         '跨年': 1,\n",
       "         '，': 1,\n",
       "         '代百貨': 1,\n",
       "         '…': 1,\n",
       "         '一時': 1,\n",
       "         '還有': 1,\n",
       "         '的': 1,\n",
       "         '人': 1,\n",
       "         '閃亮': 1,\n",
       "         '眼睛': 1})"
      ]
     },
     "execution_count": 5,
     "metadata": {},
     "output_type": "execute_result"
    }
   ],
   "source": [
    "Counter({ x for x in jieba.cut(CAPTIONS['caption'][12].strip()) })"
   ]
  },
  {
   "cell_type": "code",
   "execution_count": 6,
   "metadata": {},
   "outputs": [
    {
     "data": {
      "text/plain": [
       "'跨年晚會前先來逛統一時代百貨，經過三樓的時候一個展場吸引了我，是由十萬顆水晶製成的麋鹿，特別閃亮，旁邊還有兩個妹子和一個帥哥…我只有一個人啊！水晶已經很閃了，再加上你們，我眼睛快被閃瞎了～😅'"
      ]
     },
     "execution_count": 6,
     "metadata": {},
     "output_type": "execute_result"
    }
   ],
   "source": [
    "CAPTIONS['caption'][12]"
   ]
  },
  {
   "cell_type": "markdown",
   "metadata": {},
   "source": [
    "# 2. Jieba TF IDF top 20 ranking"
   ]
  },
  {
   "cell_type": "code",
   "execution_count": 7,
   "metadata": {},
   "outputs": [],
   "source": [
    "captions = CAPTIONS['caption'].str.cat()"
   ]
  },
  {
   "cell_type": "code",
   "execution_count": 8,
   "metadata": {},
   "outputs": [],
   "source": [
    "jieba.analyse.set_idf_path('./idf.txt.big')\n",
    "tags = jieba.analyse.extract_tags(captions, topK=100)"
   ]
  },
  {
   "cell_type": "code",
   "execution_count": 9,
   "metadata": {
    "scrolled": true
   },
   "outputs": [
    {
     "data": {
      "text/plain": [
       "['台北',\n",
       " 'taipei',\n",
       " '統一時',\n",
       " '代百貨',\n",
       " '今天',\n",
       " 'taiwan',\n",
       " '聖誕節',\n",
       " '真的',\n",
       " '我們',\n",
       " '聖誕樹',\n",
       " '2016',\n",
       " '一個',\n",
       " 'Taipei',\n",
       " 'merrychristmas',\n",
       " '謝謝',\n",
       " 'Christmas',\n",
       " '還是',\n",
       " 'christmas',\n",
       " '就是',\n",
       " '聖誕',\n",
       " '信義區',\n",
       " '快樂',\n",
       " '自己',\n",
       " 'sharing',\n",
       " '一起',\n",
       " '台灣',\n",
       " 'love',\n",
       " '木馬',\n",
       " '好吃',\n",
       " 'xmas',\n",
       " '一天',\n",
       " '101',\n",
       " '轉木馬',\n",
       " '覺得',\n",
       " '什麼',\n",
       " '還有',\n",
       " '...',\n",
       " 'Taiwan',\n",
       " '一下',\n",
       " '12',\n",
       " '市集',\n",
       " '今年',\n",
       " '台湾',\n",
       " '週年慶',\n",
       " '看到',\n",
       " '拍照',\n",
       " '一直',\n",
       " 'christmastree',\n",
       " '阪急',\n",
       " '耶誕',\n",
       " 'instagood',\n",
       " '少女',\n",
       " '旋轉',\n",
       " 'life',\n",
       " '蛋糕',\n",
       " '統一時代',\n",
       " 'happy',\n",
       " 'starbucks',\n",
       " '球鞋',\n",
       " '開始',\n",
       " '希望',\n",
       " '怎麼',\n",
       " 'Sharing',\n",
       " '起司',\n",
       " '星巴克',\n",
       " '這樣',\n",
       " '統一阪',\n",
       " '知道',\n",
       " '一樣',\n",
       " '這個',\n",
       " '開心',\n",
       " 'vscotaiwan',\n",
       " '星冰樂',\n",
       " '哈哈',\n",
       " 'ootd',\n",
       " '哈哈哈',\n",
       " '幸福',\n",
       " 'night',\n",
       " '禮物',\n",
       " '限定',\n",
       " '不是',\n",
       " '工作',\n",
       " '晚餐',\n",
       " 'food',\n",
       " '生日',\n",
       " '下班',\n",
       " '今日',\n",
       " 'travel',\n",
       " '上班',\n",
       " '回家',\n",
       " '美食',\n",
       " 'instadaily',\n",
       " 'muji',\n",
       " 'isharing',\n",
       " '快來',\n",
       " '這麼',\n",
       " '好久',\n",
       " '00',\n",
       " '11',\n",
       " '感謝']"
      ]
     },
     "execution_count": 9,
     "metadata": {},
     "output_type": "execute_result"
    }
   ],
   "source": [
    "tags"
   ]
  },
  {
   "cell_type": "code",
   "execution_count": 10,
   "metadata": {},
   "outputs": [],
   "source": [
    "# TextRank"
   ]
  },
  {
   "cell_type": "code",
   "execution_count": 11,
   "metadata": {},
   "outputs": [
    {
     "data": {
      "text/plain": [
       "['時代',\n",
       " '百貨',\n",
       " '統一',\n",
       " '台北',\n",
       " '木馬',\n",
       " '旋轉',\n",
       " '沒有',\n",
       " '好吃',\n",
       " '覺得',\n",
       " '信義區',\n",
       " '可愛',\n",
       " '台灣',\n",
       " '大家',\n",
       " '喜歡',\n",
       " '看到',\n",
       " '開心',\n",
       " '市集',\n",
       " '下班',\n",
       " '時間',\n",
       " '拍照']"
      ]
     },
     "execution_count": 11,
     "metadata": {},
     "output_type": "execute_result"
    }
   ],
   "source": [
    "jieba.analyse.textrank(captions, topK=20, withWeight=False, allowPOS=('ns', 'n', 'vn', 'v')) "
   ]
  },
  {
   "cell_type": "code",
   "execution_count": null,
   "metadata": {},
   "outputs": [],
   "source": []
  }
 ],
 "metadata": {
  "kernelspec": {
   "display_name": "Python 3",
   "language": "python",
   "name": "python3"
  },
  "language_info": {
   "codemirror_mode": {
    "name": "ipython",
    "version": 3
   },
   "file_extension": ".py",
   "mimetype": "text/x-python",
   "name": "python",
   "nbconvert_exporter": "python",
   "pygments_lexer": "ipython3",
   "version": "3.7.0"
  }
 },
 "nbformat": 4,
 "nbformat_minor": 2
}

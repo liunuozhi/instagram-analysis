{
 "cells": [
  {
   "cell_type": "code",
   "execution_count": 1,
   "metadata": {},
   "outputs": [],
   "source": [
    "import pandas as pd\n",
    "import sqlite3\n",
    "import emoji\n",
    "from collections import Counter\n",
    "from pprint import pprint\n",
    "\n",
    "from matplotlib.pyplot import yscale, xscale, title, plot\n",
    "import matplotlib.pyplot as plt\n",
    "%matplotlib inline\n",
    "import seaborn as sns\n",
    "\n",
    "import jieba\n",
    "import re\n",
    "from collections import Counter\n",
    "import jieba.analyse"
   ]
  },
  {
   "cell_type": "code",
   "execution_count": 2,
   "metadata": {},
   "outputs": [],
   "source": [
    "def read_sql():\n",
    "    df = __read_sql()\n",
    "    df = __select_taipei_area(df)\n",
    "    df = __clean_raw_dataframe(df)\n",
    "    return df\n",
    "\n",
    "# read raw data from sql\n",
    "def __read_sql():\n",
    "    con = sqlite3.connect('../data/InstagramPost.sqlite')\n",
    "    con2 = sqlite3.connect('../data/InstagramPost2.sqlite')\n",
    "    con3 = sqlite3.connect('../data/InstagramPost3.sqlite')\n",
    "    SQL = pd.read_sql_query('select * from InstagramPost', con)\n",
    "    SQL2 = pd.read_sql_query('select * from InstagramPost_table2', con)\n",
    "    SQL3 = pd.read_sql_query('select * from InstagramPost_table3', con)\n",
    "    SQL4 = pd.read_sql_query('select * from InstagramPost_table4', con)\n",
    "    SQL5 = pd.read_sql_query('select * from InstagramPost_table2', con2)\n",
    "    SQL6 = pd.read_sql_query('select * from InstagramPost', con3)\n",
    "\n",
    "    # concat SQL tables\n",
    "    SQL = pd.concat([SQL, SQL2, SQL3, SQL4, SQL5, SQL6]).drop_duplicates()\n",
    "    del SQL2, SQL3, SQL4, SQL5, SQL6\n",
    "    SQL['datetime'] = pd.to_datetime(SQL.date, unit='s')\n",
    "    instagram2016 = SQL[SQL.datetime.dt.year == 2016]\n",
    "    del SQL\n",
    "    return instagram2016\n",
    "\n",
    "# select taipei area\n",
    "def __select_taipei_area(df):\n",
    "#     # 基隆路附近\n",
    "#     lat_min = 25.032840\n",
    "#     lat_max = 25.051496\n",
    "#     lng_min = 121.557441\n",
    "#     lng_max = 121.580229\n",
    "    \n",
    "    # 台北市\n",
    "    lat_min, lng_min = 24.975456, 121.461888\n",
    "    lat_max, lng_max = 25.100281, 121.611286\n",
    "\n",
    "    df['lat'] = df.lat.astype(float)\n",
    "    df['lng'] = df.lng.astype(float)\n",
    "\n",
    "    lat_bound = df.lat.between(lat_min, lat_max)\n",
    "    lng_bound = df.lng.between(lng_min, lng_max)\n",
    "    df = df[lat_bound & lng_bound]\n",
    "    return df\n",
    "\n",
    "# clean datafrome\n",
    "def __clean_raw_dataframe(df):\n",
    "    df = df[['location_id', 'location_name', 'lat', 'lng', 'caption', 'comments',\n",
    "             'date', 'media_id', 'is_video', 'likes', 'owner_id', 'thumbnail_src',\n",
    "             'display_src', 'datetime']].reset_index().drop(columns='index')\n",
    "    return df"
   ]
  },
  {
   "cell_type": "code",
   "execution_count": 3,
   "metadata": {},
   "outputs": [
    {
     "name": "stderr",
     "output_type": "stream",
     "text": [
      "Building prefix dict from the default dictionary ...\n",
      "Loading model from cache C:\\Users\\ronn\\AppData\\Local\\Temp\\jieba.cache\n",
      "Loading model cost 0.910 seconds.\n",
      "Prefix dict has been built succesfully.\n"
     ]
    }
   ],
   "source": [
    "# add stop word for jieba\n",
    "with open('add_stopword.txt') as f:\n",
    "    stopword = f.read()\n",
    "\n",
    "jieba.add_word(stopword)"
   ]
  },
  {
   "cell_type": "markdown",
   "metadata": {},
   "source": [
    "# 1. Read data"
   ]
  },
  {
   "cell_type": "code",
   "execution_count": 4,
   "metadata": {},
   "outputs": [],
   "source": [
    "ig2016 = read_sql()"
   ]
  },
  {
   "cell_type": "code",
   "execution_count": 5,
   "metadata": {
    "scrolled": true
   },
   "outputs": [
    {
     "data": {
      "text/html": [
       "<div>\n",
       "<style scoped>\n",
       "    .dataframe tbody tr th:only-of-type {\n",
       "        vertical-align: middle;\n",
       "    }\n",
       "\n",
       "    .dataframe tbody tr th {\n",
       "        vertical-align: top;\n",
       "    }\n",
       "\n",
       "    .dataframe thead th {\n",
       "        text-align: right;\n",
       "    }\n",
       "</style>\n",
       "<table border=\"1\" class=\"dataframe\">\n",
       "  <thead>\n",
       "    <tr style=\"text-align: right;\">\n",
       "      <th></th>\n",
       "      <th>location_id</th>\n",
       "      <th>location_name</th>\n",
       "      <th>lat</th>\n",
       "      <th>lng</th>\n",
       "      <th>caption</th>\n",
       "      <th>comments</th>\n",
       "      <th>date</th>\n",
       "      <th>media_id</th>\n",
       "      <th>is_video</th>\n",
       "      <th>likes</th>\n",
       "      <th>owner_id</th>\n",
       "      <th>thumbnail_src</th>\n",
       "      <th>display_src</th>\n",
       "      <th>datetime</th>\n",
       "    </tr>\n",
       "  </thead>\n",
       "  <tbody>\n",
       "    <tr>\n",
       "      <th>0</th>\n",
       "      <td>539785069465598</td>\n",
       "      <td>駱馬休息站</td>\n",
       "      <td>25.060489</td>\n",
       "      <td>121.558019</td>\n",
       "      <td>-\\n「駱馬」\\n哺乳綱 偶蹄目 駱駝科 \\n駱馬又名無峰駱駝，是群居的動物，非常耐旱，牠的...</td>\n",
       "      <td>15</td>\n",
       "      <td>1477227676</td>\n",
       "      <td>1367407320455448673</td>\n",
       "      <td>0</td>\n",
       "      <td>77</td>\n",
       "      <td>472063179</td>\n",
       "      <td>https://instagram.ftpe7-4.fna.fbcdn.net/t51.28...</td>\n",
       "      <td>https://instagram.ftpe7-4.fna.fbcdn.net/t51.28...</td>\n",
       "      <td>2016-10-23 13:01:16</td>\n",
       "    </tr>\n",
       "    <tr>\n",
       "      <th>1</th>\n",
       "      <td>1030274404</td>\n",
       "      <td>珍妮姐姐</td>\n",
       "      <td>25.033070</td>\n",
       "      <td>121.574303</td>\n",
       "      <td>4y9m31d\\n🎃🎃🎃萬聖節不搗蛋要幹嘛.....來當小小波麗士啦！🚔🚔🚔一個好老成的交警...</td>\n",
       "      <td>0</td>\n",
       "      <td>1477722698</td>\n",
       "      <td>1371559858339338657</td>\n",
       "      <td>0</td>\n",
       "      <td>10</td>\n",
       "      <td>471686179</td>\n",
       "      <td>https://instagram.ftpe7-4.fna.fbcdn.net/t51.28...</td>\n",
       "      <td>https://instagram.ftpe7-4.fna.fbcdn.net/t51.28...</td>\n",
       "      <td>2016-10-29 06:31:38</td>\n",
       "    </tr>\n",
       "    <tr>\n",
       "      <th>2</th>\n",
       "      <td>512246272215639</td>\n",
       "      <td>明城鎖印行</td>\n",
       "      <td>25.054319</td>\n",
       "      <td>121.579559</td>\n",
       "      <td>原來嘟嘟嘴</td>\n",
       "      <td>0</td>\n",
       "      <td>1463601509</td>\n",
       "      <td>1253102745434590928</td>\n",
       "      <td>1</td>\n",
       "      <td>9</td>\n",
       "      <td>3103213202</td>\n",
       "      <td>https://instagram.ftpe7-4.fna.fbcdn.net/t51.28...</td>\n",
       "      <td>https://instagram.ftpe7-4.fna.fbcdn.net/t51.28...</td>\n",
       "      <td>2016-05-18 19:58:29</td>\n",
       "    </tr>\n",
       "    <tr>\n",
       "      <th>3</th>\n",
       "      <td>176805912370722</td>\n",
       "      <td>天使部屋美甲美睫</td>\n",
       "      <td>25.042130</td>\n",
       "      <td>121.545680</td>\n",
       "      <td>ชอบกิน street food กันมากกว่า เพราะรสชาติ auth...</td>\n",
       "      <td>6</td>\n",
       "      <td>1463216532</td>\n",
       "      <td>1249873319996801497</td>\n",
       "      <td>0</td>\n",
       "      <td>3115</td>\n",
       "      <td>22177415</td>\n",
       "      <td>https://instagram.ftpe7-4.fna.fbcdn.net/t51.28...</td>\n",
       "      <td>https://instagram.ftpe7-4.fna.fbcdn.net/t51.28...</td>\n",
       "      <td>2016-05-14 09:02:12</td>\n",
       "    </tr>\n",
       "    <tr>\n",
       "      <th>4</th>\n",
       "      <td>1030059774</td>\n",
       "      <td>上順五金</td>\n",
       "      <td>25.045666</td>\n",
       "      <td>121.572621</td>\n",
       "      <td>殺氣⋯</td>\n",
       "      <td>0</td>\n",
       "      <td>1457411803</td>\n",
       "      <td>1201179727676509838</td>\n",
       "      <td>0</td>\n",
       "      <td>5</td>\n",
       "      <td>1656340962</td>\n",
       "      <td>https://instagram.ftpe7-4.fna.fbcdn.net/t51.28...</td>\n",
       "      <td>https://instagram.ftpe7-4.fna.fbcdn.net/t51.28...</td>\n",
       "      <td>2016-03-08 04:36:43</td>\n",
       "    </tr>\n",
       "  </tbody>\n",
       "</table>\n",
       "</div>"
      ],
      "text/plain": [
       "       location_id location_name        lat         lng  \\\n",
       "0  539785069465598         駱馬休息站  25.060489  121.558019   \n",
       "1       1030274404          珍妮姐姐  25.033070  121.574303   \n",
       "2  512246272215639         明城鎖印行  25.054319  121.579559   \n",
       "3  176805912370722      天使部屋美甲美睫  25.042130  121.545680   \n",
       "4       1030059774          上順五金  25.045666  121.572621   \n",
       "\n",
       "                                             caption  comments        date  \\\n",
       "0  -\\n「駱馬」\\n哺乳綱 偶蹄目 駱駝科 \\n駱馬又名無峰駱駝，是群居的動物，非常耐旱，牠的...        15  1477227676   \n",
       "1  4y9m31d\\n🎃🎃🎃萬聖節不搗蛋要幹嘛.....來當小小波麗士啦！🚔🚔🚔一個好老成的交警...         0  1477722698   \n",
       "2                                              原來嘟嘟嘴         0  1463601509   \n",
       "3  ชอบกิน street food กันมากกว่า เพราะรสชาติ auth...         6  1463216532   \n",
       "4                                                殺氣⋯         0  1457411803   \n",
       "\n",
       "              media_id  is_video  likes    owner_id  \\\n",
       "0  1367407320455448673         0     77   472063179   \n",
       "1  1371559858339338657         0     10   471686179   \n",
       "2  1253102745434590928         1      9  3103213202   \n",
       "3  1249873319996801497         0   3115    22177415   \n",
       "4  1201179727676509838         0      5  1656340962   \n",
       "\n",
       "                                       thumbnail_src  \\\n",
       "0  https://instagram.ftpe7-4.fna.fbcdn.net/t51.28...   \n",
       "1  https://instagram.ftpe7-4.fna.fbcdn.net/t51.28...   \n",
       "2  https://instagram.ftpe7-4.fna.fbcdn.net/t51.28...   \n",
       "3  https://instagram.ftpe7-4.fna.fbcdn.net/t51.28...   \n",
       "4  https://instagram.ftpe7-4.fna.fbcdn.net/t51.28...   \n",
       "\n",
       "                                         display_src            datetime  \n",
       "0  https://instagram.ftpe7-4.fna.fbcdn.net/t51.28... 2016-10-23 13:01:16  \n",
       "1  https://instagram.ftpe7-4.fna.fbcdn.net/t51.28... 2016-10-29 06:31:38  \n",
       "2  https://instagram.ftpe7-4.fna.fbcdn.net/t51.28... 2016-05-18 19:58:29  \n",
       "3  https://instagram.ftpe7-4.fna.fbcdn.net/t51.28... 2016-05-14 09:02:12  \n",
       "4  https://instagram.ftpe7-4.fna.fbcdn.net/t51.28... 2016-03-08 04:36:43  "
      ]
     },
     "execution_count": 5,
     "metadata": {},
     "output_type": "execute_result"
    }
   ],
   "source": [
    "ig2016.head()"
   ]
  },
  {
   "cell_type": "markdown",
   "metadata": {},
   "source": [
    "# 2. Test TF IDF"
   ]
  },
  {
   "cell_type": "code",
   "execution_count": 6,
   "metadata": {},
   "outputs": [],
   "source": [
    "test = ig2016[:10]"
   ]
  },
  {
   "cell_type": "code",
   "execution_count": 7,
   "metadata": {},
   "outputs": [],
   "source": [
    "jieba.analyse.set_idf_path('./idf.txt.big')"
   ]
  },
  {
   "cell_type": "code",
   "execution_count": 8,
   "metadata": {},
   "outputs": [],
   "source": [
    "def df_tag(caption):\n",
    "    tags = jieba.analyse.extract_tags(caption, topK=10)\n",
    "    return tags"
   ]
  },
  {
   "cell_type": "code",
   "execution_count": null,
   "metadata": {},
   "outputs": [],
   "source": []
  },
  {
   "cell_type": "code",
   "execution_count": 9,
   "metadata": {},
   "outputs": [],
   "source": [
    "loc_gb = ig2016.groupby('location_name')"
   ]
  },
  {
   "cell_type": "code",
   "execution_count": 10,
   "metadata": {},
   "outputs": [],
   "source": [
    "cap = loc_gb['caption'].apply(lambda x: x.sum())"
   ]
  },
  {
   "cell_type": "code",
   "execution_count": 11,
   "metadata": {},
   "outputs": [
    {
     "data": {
      "text/plain": [
       "location_name\n",
       "(財)日本交流協会 台北事務所                  台湾で運転するために翻訳文を作ってもらった\\n明日は遠くに行こう\\n#台湾 #台湾で運転 #...\n",
       "-東洋寶時捷-                          颱風天就是要開速霸陸啊 不然要幹嘛😏SUBARU forge engine ej25 .Po...\n",
       "1/10 Cake                        覺得歲末就是胖胖胖\\n跟著 @ew__33 就變這樣\\n這個月無節制\\n下個月不省不行了\\n...\n",
       "10 Square Cafe                   好朋友一定要膩在一起見面到最後一天 2016 last day in 10 square c...\n",
       "1001 Nights Taipei (一千零一夜水煙館)    智障頭飾hold住整個舞池🤡🤡🤡\\n-\\n#happynewyear #2017 #danc...\n",
       "Name: caption, dtype: object"
      ]
     },
     "execution_count": 11,
     "metadata": {},
     "output_type": "execute_result"
    }
   ],
   "source": [
    "cap.head()"
   ]
  },
  {
   "cell_type": "code",
   "execution_count": 14,
   "metadata": {
    "scrolled": true
   },
   "outputs": [],
   "source": [
    "igCap = pd.DataFrame(cap).reset_index()\n",
    "igCap['tags'] = igCap['caption'].apply(df_tag)"
   ]
  },
  {
   "cell_type": "code",
   "execution_count": 15,
   "metadata": {},
   "outputs": [
    {
     "data": {
      "text/html": [
       "<div>\n",
       "<style scoped>\n",
       "    .dataframe tbody tr th:only-of-type {\n",
       "        vertical-align: middle;\n",
       "    }\n",
       "\n",
       "    .dataframe tbody tr th {\n",
       "        vertical-align: top;\n",
       "    }\n",
       "\n",
       "    .dataframe thead th {\n",
       "        text-align: right;\n",
       "    }\n",
       "</style>\n",
       "<table border=\"1\" class=\"dataframe\">\n",
       "  <thead>\n",
       "    <tr style=\"text-align: right;\">\n",
       "      <th></th>\n",
       "      <th>location_name</th>\n",
       "      <th>caption</th>\n",
       "      <th>tags</th>\n",
       "    </tr>\n",
       "  </thead>\n",
       "  <tbody>\n",
       "    <tr>\n",
       "      <th>0</th>\n",
       "      <td>(財)日本交流協会 台北事務所</td>\n",
       "      <td>台湾で運転するために翻訳文を作ってもらった\\n明日は遠くに行こう\\n#台湾 #台湾で運転 #...</td>\n",
       "      <td>[台湾, 計画, 明日]</td>\n",
       "    </tr>\n",
       "    <tr>\n",
       "      <th>1</th>\n",
       "      <td>-東洋寶時捷-</td>\n",
       "      <td>颱風天就是要開速霸陸啊 不然要幹嘛😏SUBARU forge engine ej25 .Po...</td>\n",
       "      <td>[風天, 就是, 開速, 霸陸, 不然, SUBARU, forge, engine, ej...</td>\n",
       "    </tr>\n",
       "    <tr>\n",
       "      <th>2</th>\n",
       "      <td>1/10 Cake</td>\n",
       "      <td>覺得歲末就是胖胖胖\\n跟著 @ew__33 就變這樣\\n這個月無節制\\n下個月不省不行了\\n...</td>\n",
       "      <td>[蛋糕, 水果, 千層, 檸檬塔, 10, 台北, 巨蛋, 甜點, 美食, cake]</td>\n",
       "    </tr>\n",
       "    <tr>\n",
       "      <th>3</th>\n",
       "      <td>10 Square Cafe</td>\n",
       "      <td>好朋友一定要膩在一起見面到最後一天 2016 last day in 10 square c...</td>\n",
       "      <td>[10squarecafe, cafe, 咖啡, sweet, love, cake, de...</td>\n",
       "    </tr>\n",
       "    <tr>\n",
       "      <th>4</th>\n",
       "      <td>1001 Nights Taipei (一千零一夜水煙館)</td>\n",
       "      <td>智障頭飾hold住整個舞池🤡🤡🤡\\n-\\n#happynewyear #2017 #danc...</td>\n",
       "      <td>[taipei, hookah, party, taiwan, life, drinks, ...</td>\n",
       "    </tr>\n",
       "  </tbody>\n",
       "</table>\n",
       "</div>"
      ],
      "text/plain": [
       "                   location_name  \\\n",
       "0                (財)日本交流協会 台北事務所   \n",
       "1                        -東洋寶時捷-   \n",
       "2                      1/10 Cake   \n",
       "3                 10 Square Cafe   \n",
       "4  1001 Nights Taipei (一千零一夜水煙館)   \n",
       "\n",
       "                                             caption  \\\n",
       "0  台湾で運転するために翻訳文を作ってもらった\\n明日は遠くに行こう\\n#台湾 #台湾で運転 #...   \n",
       "1  颱風天就是要開速霸陸啊 不然要幹嘛😏SUBARU forge engine ej25 .Po...   \n",
       "2  覺得歲末就是胖胖胖\\n跟著 @ew__33 就變這樣\\n這個月無節制\\n下個月不省不行了\\n...   \n",
       "3  好朋友一定要膩在一起見面到最後一天 2016 last day in 10 square c...   \n",
       "4  智障頭飾hold住整個舞池🤡🤡🤡\\n-\\n#happynewyear #2017 #danc...   \n",
       "\n",
       "                                                tags  \n",
       "0                                       [台湾, 計画, 明日]  \n",
       "1  [風天, 就是, 開速, 霸陸, 不然, SUBARU, forge, engine, ej...  \n",
       "2        [蛋糕, 水果, 千層, 檸檬塔, 10, 台北, 巨蛋, 甜點, 美食, cake]  \n",
       "3  [10squarecafe, cafe, 咖啡, sweet, love, cake, de...  \n",
       "4  [taipei, hookah, party, taiwan, life, drinks, ...  "
      ]
     },
     "execution_count": 15,
     "metadata": {},
     "output_type": "execute_result"
    }
   ],
   "source": [
    "igCap.head()"
   ]
  },
  {
   "cell_type": "markdown",
   "metadata": {},
   "source": [
    "igCap[['location_name', 'tags']].to_csv('caption_tfidf.csv', encoding='utf8')"
   ]
  },
  {
   "cell_type": "code",
   "execution_count": null,
   "metadata": {},
   "outputs": [],
   "source": []
  }
 ],
 "metadata": {
  "kernelspec": {
   "display_name": "Python 3",
   "language": "python",
   "name": "python3"
  },
  "language_info": {
   "codemirror_mode": {
    "name": "ipython",
    "version": 3
   },
   "file_extension": ".py",
   "mimetype": "text/x-python",
   "name": "python",
   "nbconvert_exporter": "python",
   "pygments_lexer": "ipython3",
   "version": "3.7.0"
  }
 },
 "nbformat": 4,
 "nbformat_minor": 2
}
